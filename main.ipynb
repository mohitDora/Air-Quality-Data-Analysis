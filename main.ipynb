{
 "cells": [
  {
   "cell_type": "code",
   "execution_count": 258,
   "metadata": {},
   "outputs": [],
   "source": [
    "import pandas as pd\n",
    "import seaborn as sns\n",
    "from remove_outliers import remove_outliers_iqr\n",
    "import matplotlib.pyplot as plt\n",
    "import numpy as np"
   ]
  },
  {
   "cell_type": "code",
   "execution_count": 259,
   "metadata": {},
   "outputs": [],
   "source": [
    "stations_df=pd.read_csv(\"./stations.csv\")\n",
    "\n",
    "station_day=pd.read_csv(\"./station_day.csv\")\n",
    "\n",
    "city_hour=pd.read_csv(\"./city_hour.csv\")"
   ]
  },
  {
   "cell_type": "code",
   "execution_count": 260,
   "metadata": {},
   "outputs": [
    {
     "data": {
      "text/html": [
       "<div>\n",
       "<style scoped>\n",
       "    .dataframe tbody tr th:only-of-type {\n",
       "        vertical-align: middle;\n",
       "    }\n",
       "\n",
       "    .dataframe tbody tr th {\n",
       "        vertical-align: top;\n",
       "    }\n",
       "\n",
       "    .dataframe thead th {\n",
       "        text-align: right;\n",
       "    }\n",
       "</style>\n",
       "<table border=\"1\" class=\"dataframe\">\n",
       "  <thead>\n",
       "    <tr style=\"text-align: right;\">\n",
       "      <th></th>\n",
       "      <th>StationId</th>\n",
       "      <th>StationName</th>\n",
       "      <th>City</th>\n",
       "      <th>State</th>\n",
       "      <th>Status</th>\n",
       "    </tr>\n",
       "  </thead>\n",
       "  <tbody>\n",
       "    <tr>\n",
       "      <th>0</th>\n",
       "      <td>AP001</td>\n",
       "      <td>Secretariat, Amaravati - APPCB</td>\n",
       "      <td>Amaravati</td>\n",
       "      <td>Andhra Pradesh</td>\n",
       "      <td>Active</td>\n",
       "    </tr>\n",
       "    <tr>\n",
       "      <th>1</th>\n",
       "      <td>AP002</td>\n",
       "      <td>Anand Kala Kshetram, Rajamahendravaram - APPCB</td>\n",
       "      <td>Rajamahendravaram</td>\n",
       "      <td>Andhra Pradesh</td>\n",
       "      <td>NaN</td>\n",
       "    </tr>\n",
       "    <tr>\n",
       "      <th>2</th>\n",
       "      <td>AP003</td>\n",
       "      <td>Tirumala, Tirupati - APPCB</td>\n",
       "      <td>Tirupati</td>\n",
       "      <td>Andhra Pradesh</td>\n",
       "      <td>NaN</td>\n",
       "    </tr>\n",
       "    <tr>\n",
       "      <th>3</th>\n",
       "      <td>AP004</td>\n",
       "      <td>PWD Grounds, Vijayawada - APPCB</td>\n",
       "      <td>Vijayawada</td>\n",
       "      <td>Andhra Pradesh</td>\n",
       "      <td>NaN</td>\n",
       "    </tr>\n",
       "    <tr>\n",
       "      <th>4</th>\n",
       "      <td>AP005</td>\n",
       "      <td>GVM Corporation, Visakhapatnam - APPCB</td>\n",
       "      <td>Visakhapatnam</td>\n",
       "      <td>Andhra Pradesh</td>\n",
       "      <td>Active</td>\n",
       "    </tr>\n",
       "  </tbody>\n",
       "</table>\n",
       "</div>"
      ],
      "text/plain": [
       "  StationId                                     StationName  \\\n",
       "0     AP001                  Secretariat, Amaravati - APPCB   \n",
       "1     AP002  Anand Kala Kshetram, Rajamahendravaram - APPCB   \n",
       "2     AP003                      Tirumala, Tirupati - APPCB   \n",
       "3     AP004                 PWD Grounds, Vijayawada - APPCB   \n",
       "4     AP005          GVM Corporation, Visakhapatnam - APPCB   \n",
       "\n",
       "                City           State  Status  \n",
       "0          Amaravati  Andhra Pradesh  Active  \n",
       "1  Rajamahendravaram  Andhra Pradesh     NaN  \n",
       "2           Tirupati  Andhra Pradesh     NaN  \n",
       "3         Vijayawada  Andhra Pradesh     NaN  \n",
       "4      Visakhapatnam  Andhra Pradesh  Active  "
      ]
     },
     "execution_count": 260,
     "metadata": {},
     "output_type": "execute_result"
    }
   ],
   "source": [
    "#station_df\n",
    "stations_df.head()"
   ]
  },
  {
   "cell_type": "code",
   "execution_count": 261,
   "metadata": {},
   "outputs": [
    {
     "data": {
      "text/plain": [
       "(230, 5)"
      ]
     },
     "execution_count": 261,
     "metadata": {},
     "output_type": "execute_result"
    }
   ],
   "source": [
    "stations_df.shape"
   ]
  },
  {
   "cell_type": "code",
   "execution_count": 262,
   "metadata": {},
   "outputs": [
    {
     "data": {
      "text/html": [
       "<div>\n",
       "<style scoped>\n",
       "    .dataframe tbody tr th:only-of-type {\n",
       "        vertical-align: middle;\n",
       "    }\n",
       "\n",
       "    .dataframe tbody tr th {\n",
       "        vertical-align: top;\n",
       "    }\n",
       "\n",
       "    .dataframe thead th {\n",
       "        text-align: right;\n",
       "    }\n",
       "</style>\n",
       "<table border=\"1\" class=\"dataframe\">\n",
       "  <thead>\n",
       "    <tr style=\"text-align: right;\">\n",
       "      <th></th>\n",
       "      <th>StationId</th>\n",
       "      <th>StationName</th>\n",
       "      <th>City</th>\n",
       "      <th>State</th>\n",
       "      <th>Status</th>\n",
       "    </tr>\n",
       "  </thead>\n",
       "  <tbody>\n",
       "    <tr>\n",
       "      <th>count</th>\n",
       "      <td>230</td>\n",
       "      <td>230</td>\n",
       "      <td>230</td>\n",
       "      <td>230</td>\n",
       "      <td>133</td>\n",
       "    </tr>\n",
       "    <tr>\n",
       "      <th>unique</th>\n",
       "      <td>230</td>\n",
       "      <td>230</td>\n",
       "      <td>127</td>\n",
       "      <td>21</td>\n",
       "      <td>2</td>\n",
       "    </tr>\n",
       "    <tr>\n",
       "      <th>top</th>\n",
       "      <td>AP001</td>\n",
       "      <td>Secretariat, Amaravati - APPCB</td>\n",
       "      <td>Delhi</td>\n",
       "      <td>Delhi</td>\n",
       "      <td>Active</td>\n",
       "    </tr>\n",
       "    <tr>\n",
       "      <th>freq</th>\n",
       "      <td>1</td>\n",
       "      <td>1</td>\n",
       "      <td>38</td>\n",
       "      <td>38</td>\n",
       "      <td>131</td>\n",
       "    </tr>\n",
       "  </tbody>\n",
       "</table>\n",
       "</div>"
      ],
      "text/plain": [
       "       StationId                     StationName   City  State  Status\n",
       "count        230                             230    230    230     133\n",
       "unique       230                             230    127     21       2\n",
       "top        AP001  Secretariat, Amaravati - APPCB  Delhi  Delhi  Active\n",
       "freq           1                               1     38     38     131"
      ]
     },
     "execution_count": 262,
     "metadata": {},
     "output_type": "execute_result"
    }
   ],
   "source": [
    "stations_df.describe()"
   ]
  },
  {
   "cell_type": "code",
   "execution_count": 299,
   "metadata": {},
   "outputs": [
    {
     "data": {
      "text/plain": [
       "City\n",
       "Delhi        38\n",
       "Bengaluru    10\n",
       "Mumbai       10\n",
       "Kolkata       7\n",
       "Hyderabad     6\n",
       "             ..\n",
       "Varanasi      1\n",
       "Durgapur      1\n",
       "Asansol       1\n",
       "Haldia        1\n",
       "Siliguri      1\n",
       "Name: count, Length: 127, dtype: int64"
      ]
     },
     "execution_count": 299,
     "metadata": {},
     "output_type": "execute_result"
    }
   ],
   "source": [
    "stations_df[\"City\"].value_counts()"
   ]
  },
  {
   "cell_type": "code",
   "execution_count": 263,
   "metadata": {},
   "outputs": [],
   "source": [
    "#dropping status column\n",
    "stations_df.drop(columns=[\"Status\"],inplace=True)"
   ]
  },
  {
   "cell_type": "code",
   "execution_count": 264,
   "metadata": {},
   "outputs": [],
   "source": [
    "stations_df.to_csv('cleaned_stations.csv', index=False)"
   ]
  },
  {
   "cell_type": "code",
   "execution_count": 265,
   "metadata": {},
   "outputs": [
    {
     "data": {
      "text/html": [
       "<div>\n",
       "<style scoped>\n",
       "    .dataframe tbody tr th:only-of-type {\n",
       "        vertical-align: middle;\n",
       "    }\n",
       "\n",
       "    .dataframe tbody tr th {\n",
       "        vertical-align: top;\n",
       "    }\n",
       "\n",
       "    .dataframe thead th {\n",
       "        text-align: right;\n",
       "    }\n",
       "</style>\n",
       "<table border=\"1\" class=\"dataframe\">\n",
       "  <thead>\n",
       "    <tr style=\"text-align: right;\">\n",
       "      <th></th>\n",
       "      <th>StationId</th>\n",
       "      <th>StationName</th>\n",
       "      <th>City</th>\n",
       "      <th>State</th>\n",
       "    </tr>\n",
       "  </thead>\n",
       "  <tbody>\n",
       "    <tr>\n",
       "      <th>0</th>\n",
       "      <td>AP001</td>\n",
       "      <td>Secretariat, Amaravati - APPCB</td>\n",
       "      <td>Amaravati</td>\n",
       "      <td>Andhra Pradesh</td>\n",
       "    </tr>\n",
       "    <tr>\n",
       "      <th>1</th>\n",
       "      <td>AP002</td>\n",
       "      <td>Anand Kala Kshetram, Rajamahendravaram - APPCB</td>\n",
       "      <td>Rajamahendravaram</td>\n",
       "      <td>Andhra Pradesh</td>\n",
       "    </tr>\n",
       "    <tr>\n",
       "      <th>2</th>\n",
       "      <td>AP003</td>\n",
       "      <td>Tirumala, Tirupati - APPCB</td>\n",
       "      <td>Tirupati</td>\n",
       "      <td>Andhra Pradesh</td>\n",
       "    </tr>\n",
       "    <tr>\n",
       "      <th>3</th>\n",
       "      <td>AP004</td>\n",
       "      <td>PWD Grounds, Vijayawada - APPCB</td>\n",
       "      <td>Vijayawada</td>\n",
       "      <td>Andhra Pradesh</td>\n",
       "    </tr>\n",
       "    <tr>\n",
       "      <th>4</th>\n",
       "      <td>AP005</td>\n",
       "      <td>GVM Corporation, Visakhapatnam - APPCB</td>\n",
       "      <td>Visakhapatnam</td>\n",
       "      <td>Andhra Pradesh</td>\n",
       "    </tr>\n",
       "  </tbody>\n",
       "</table>\n",
       "</div>"
      ],
      "text/plain": [
       "  StationId                                     StationName  \\\n",
       "0     AP001                  Secretariat, Amaravati - APPCB   \n",
       "1     AP002  Anand Kala Kshetram, Rajamahendravaram - APPCB   \n",
       "2     AP003                      Tirumala, Tirupati - APPCB   \n",
       "3     AP004                 PWD Grounds, Vijayawada - APPCB   \n",
       "4     AP005          GVM Corporation, Visakhapatnam - APPCB   \n",
       "\n",
       "                City           State  \n",
       "0          Amaravati  Andhra Pradesh  \n",
       "1  Rajamahendravaram  Andhra Pradesh  \n",
       "2           Tirupati  Andhra Pradesh  \n",
       "3         Vijayawada  Andhra Pradesh  \n",
       "4      Visakhapatnam  Andhra Pradesh  "
      ]
     },
     "execution_count": 265,
     "metadata": {},
     "output_type": "execute_result"
    }
   ],
   "source": [
    "stations_df.head()"
   ]
  },
  {
   "cell_type": "code",
   "execution_count": 266,
   "metadata": {},
   "outputs": [
    {
     "data": {
      "text/plain": [
       "State\n",
       "Delhi             38\n",
       "Haryana           29\n",
       "Uttar Pradesh     26\n",
       "Maharashtra       22\n",
       "Karnataka         20\n",
       "Madhya Pradesh    16\n",
       "West Bengal       14\n",
       "Rajasthan         10\n",
       "Bihar             10\n",
       "Punjab             8\n",
       "Kerala             8\n",
       "Gujarat            6\n",
       "Telangana          6\n",
       "Andhra Pradesh     5\n",
       "Tamil Nadu         5\n",
       "Odisha             2\n",
       "Assam              1\n",
       "Chandigarh         1\n",
       "Jharkhand          1\n",
       "Meghalaya          1\n",
       "Mizoram            1\n",
       "Name: count, dtype: int64"
      ]
     },
     "execution_count": 266,
     "metadata": {},
     "output_type": "execute_result"
    }
   ],
   "source": [
    "stations_df[\"State\"].value_counts()"
   ]
  },
  {
   "cell_type": "code",
   "execution_count": 267,
   "metadata": {},
   "outputs": [
    {
     "name": "stderr",
     "output_type": "stream",
     "text": [
      "C:\\Users\\MOHIT KUMAR DORA\\AppData\\Local\\Temp\\ipykernel_5972\\253115992.py:3: DtypeWarning: Columns (15) have mixed types. Specify dtype option on import or set low_memory=False.\n",
      "  city_day_df=pd.read_csv(\"./station_hour.csv\")\n"
     ]
    },
    {
     "data": {
      "text/html": [
       "<div>\n",
       "<style scoped>\n",
       "    .dataframe tbody tr th:only-of-type {\n",
       "        vertical-align: middle;\n",
       "    }\n",
       "\n",
       "    .dataframe tbody tr th {\n",
       "        vertical-align: top;\n",
       "    }\n",
       "\n",
       "    .dataframe thead th {\n",
       "        text-align: right;\n",
       "    }\n",
       "</style>\n",
       "<table border=\"1\" class=\"dataframe\">\n",
       "  <thead>\n",
       "    <tr style=\"text-align: right;\">\n",
       "      <th></th>\n",
       "      <th>StationId</th>\n",
       "      <th>Datetime</th>\n",
       "      <th>PM2.5</th>\n",
       "      <th>PM10</th>\n",
       "      <th>NO</th>\n",
       "      <th>NO2</th>\n",
       "      <th>NOx</th>\n",
       "      <th>NH3</th>\n",
       "      <th>CO</th>\n",
       "      <th>SO2</th>\n",
       "      <th>O3</th>\n",
       "      <th>Benzene</th>\n",
       "      <th>Toluene</th>\n",
       "      <th>Xylene</th>\n",
       "      <th>AQI</th>\n",
       "      <th>AQI_Bucket</th>\n",
       "    </tr>\n",
       "  </thead>\n",
       "  <tbody>\n",
       "    <tr>\n",
       "      <th>0</th>\n",
       "      <td>AP001</td>\n",
       "      <td>2017-11-24 17:00:00</td>\n",
       "      <td>60.50</td>\n",
       "      <td>98.00</td>\n",
       "      <td>2.35</td>\n",
       "      <td>30.80</td>\n",
       "      <td>18.25</td>\n",
       "      <td>8.50</td>\n",
       "      <td>0.1</td>\n",
       "      <td>11.85</td>\n",
       "      <td>126.40</td>\n",
       "      <td>0.1</td>\n",
       "      <td>6.10</td>\n",
       "      <td>0.10</td>\n",
       "      <td>NaN</td>\n",
       "      <td>NaN</td>\n",
       "    </tr>\n",
       "    <tr>\n",
       "      <th>1</th>\n",
       "      <td>AP001</td>\n",
       "      <td>2017-11-24 18:00:00</td>\n",
       "      <td>65.50</td>\n",
       "      <td>111.25</td>\n",
       "      <td>2.70</td>\n",
       "      <td>24.20</td>\n",
       "      <td>15.07</td>\n",
       "      <td>9.77</td>\n",
       "      <td>0.1</td>\n",
       "      <td>13.17</td>\n",
       "      <td>117.12</td>\n",
       "      <td>0.1</td>\n",
       "      <td>6.25</td>\n",
       "      <td>0.15</td>\n",
       "      <td>NaN</td>\n",
       "      <td>NaN</td>\n",
       "    </tr>\n",
       "    <tr>\n",
       "      <th>2</th>\n",
       "      <td>AP001</td>\n",
       "      <td>2017-11-24 19:00:00</td>\n",
       "      <td>80.00</td>\n",
       "      <td>132.00</td>\n",
       "      <td>2.10</td>\n",
       "      <td>25.18</td>\n",
       "      <td>15.15</td>\n",
       "      <td>12.02</td>\n",
       "      <td>0.1</td>\n",
       "      <td>12.08</td>\n",
       "      <td>98.98</td>\n",
       "      <td>0.2</td>\n",
       "      <td>5.98</td>\n",
       "      <td>0.18</td>\n",
       "      <td>NaN</td>\n",
       "      <td>NaN</td>\n",
       "    </tr>\n",
       "    <tr>\n",
       "      <th>3</th>\n",
       "      <td>AP001</td>\n",
       "      <td>2017-11-24 20:00:00</td>\n",
       "      <td>81.50</td>\n",
       "      <td>133.25</td>\n",
       "      <td>1.95</td>\n",
       "      <td>16.25</td>\n",
       "      <td>10.23</td>\n",
       "      <td>11.58</td>\n",
       "      <td>0.1</td>\n",
       "      <td>10.47</td>\n",
       "      <td>112.20</td>\n",
       "      <td>0.2</td>\n",
       "      <td>6.72</td>\n",
       "      <td>0.10</td>\n",
       "      <td>NaN</td>\n",
       "      <td>NaN</td>\n",
       "    </tr>\n",
       "    <tr>\n",
       "      <th>4</th>\n",
       "      <td>AP001</td>\n",
       "      <td>2017-11-24 21:00:00</td>\n",
       "      <td>75.25</td>\n",
       "      <td>116.00</td>\n",
       "      <td>1.43</td>\n",
       "      <td>17.48</td>\n",
       "      <td>10.43</td>\n",
       "      <td>12.03</td>\n",
       "      <td>0.1</td>\n",
       "      <td>9.12</td>\n",
       "      <td>106.35</td>\n",
       "      <td>0.2</td>\n",
       "      <td>5.75</td>\n",
       "      <td>0.08</td>\n",
       "      <td>NaN</td>\n",
       "      <td>NaN</td>\n",
       "    </tr>\n",
       "  </tbody>\n",
       "</table>\n",
       "</div>"
      ],
      "text/plain": [
       "  StationId             Datetime  PM2.5    PM10    NO    NO2    NOx    NH3  \\\n",
       "0     AP001  2017-11-24 17:00:00  60.50   98.00  2.35  30.80  18.25   8.50   \n",
       "1     AP001  2017-11-24 18:00:00  65.50  111.25  2.70  24.20  15.07   9.77   \n",
       "2     AP001  2017-11-24 19:00:00  80.00  132.00  2.10  25.18  15.15  12.02   \n",
       "3     AP001  2017-11-24 20:00:00  81.50  133.25  1.95  16.25  10.23  11.58   \n",
       "4     AP001  2017-11-24 21:00:00  75.25  116.00  1.43  17.48  10.43  12.03   \n",
       "\n",
       "    CO    SO2      O3  Benzene  Toluene  Xylene  AQI AQI_Bucket  \n",
       "0  0.1  11.85  126.40      0.1     6.10    0.10  NaN        NaN  \n",
       "1  0.1  13.17  117.12      0.1     6.25    0.15  NaN        NaN  \n",
       "2  0.1  12.08   98.98      0.2     5.98    0.18  NaN        NaN  \n",
       "3  0.1  10.47  112.20      0.2     6.72    0.10  NaN        NaN  \n",
       "4  0.1   9.12  106.35      0.2     5.75    0.08  NaN        NaN  "
      ]
     },
     "execution_count": 267,
     "metadata": {},
     "output_type": "execute_result"
    }
   ],
   "source": [
    "#city_df\n",
    "\n",
    "city_day_df=pd.read_csv(\"./station_hour.csv\")\n",
    "city_day_df.head()"
   ]
  },
  {
   "cell_type": "code",
   "execution_count": 268,
   "metadata": {},
   "outputs": [
    {
     "data": {
      "text/plain": [
       "(2589083, 16)"
      ]
     },
     "execution_count": 268,
     "metadata": {},
     "output_type": "execute_result"
    }
   ],
   "source": [
    "city_day_df.shape"
   ]
  },
  {
   "cell_type": "code",
   "execution_count": 269,
   "metadata": {},
   "outputs": [
    {
     "data": {
      "text/html": [
       "<div>\n",
       "<style scoped>\n",
       "    .dataframe tbody tr th:only-of-type {\n",
       "        vertical-align: middle;\n",
       "    }\n",
       "\n",
       "    .dataframe tbody tr th {\n",
       "        vertical-align: top;\n",
       "    }\n",
       "\n",
       "    .dataframe thead th {\n",
       "        text-align: right;\n",
       "    }\n",
       "</style>\n",
       "<table border=\"1\" class=\"dataframe\">\n",
       "  <thead>\n",
       "    <tr style=\"text-align: right;\">\n",
       "      <th></th>\n",
       "      <th>PM2.5</th>\n",
       "      <th>PM10</th>\n",
       "      <th>NO</th>\n",
       "      <th>NO2</th>\n",
       "      <th>NOx</th>\n",
       "      <th>NH3</th>\n",
       "      <th>CO</th>\n",
       "      <th>SO2</th>\n",
       "      <th>O3</th>\n",
       "      <th>Benzene</th>\n",
       "      <th>Toluene</th>\n",
       "      <th>Xylene</th>\n",
       "      <th>AQI</th>\n",
       "    </tr>\n",
       "  </thead>\n",
       "  <tbody>\n",
       "    <tr>\n",
       "      <th>count</th>\n",
       "      <td>1.941394e+06</td>\n",
       "      <td>1.469831e+06</td>\n",
       "      <td>2.035372e+06</td>\n",
       "      <td>2.060110e+06</td>\n",
       "      <td>2.098275e+06</td>\n",
       "      <td>1.352465e+06</td>\n",
       "      <td>2.089781e+06</td>\n",
       "      <td>1.846346e+06</td>\n",
       "      <td>1.863110e+06</td>\n",
       "      <td>1.727504e+06</td>\n",
       "      <td>1.546717e+06</td>\n",
       "      <td>513979.000000</td>\n",
       "      <td>2.018893e+06</td>\n",
       "    </tr>\n",
       "    <tr>\n",
       "      <th>mean</th>\n",
       "      <td>8.086481e+01</td>\n",
       "      <td>1.584839e+02</td>\n",
       "      <td>2.278825e+01</td>\n",
       "      <td>3.523689e+01</td>\n",
       "      <td>4.055115e+01</td>\n",
       "      <td>2.870856e+01</td>\n",
       "      <td>1.502366e+00</td>\n",
       "      <td>1.211602e+01</td>\n",
       "      <td>3.806408e+01</td>\n",
       "      <td>3.305493e+00</td>\n",
       "      <td>1.490266e+01</td>\n",
       "      <td>2.448881</td>\n",
       "      <td>1.801730e+02</td>\n",
       "    </tr>\n",
       "    <tr>\n",
       "      <th>std</th>\n",
       "      <td>8.947618e+01</td>\n",
       "      <td>1.397883e+02</td>\n",
       "      <td>4.846146e+01</td>\n",
       "      <td>3.497508e+01</td>\n",
       "      <td>5.590894e+01</td>\n",
       "      <td>2.753244e+01</td>\n",
       "      <td>6.292445e+00</td>\n",
       "      <td>1.467385e+01</td>\n",
       "      <td>4.710653e+01</td>\n",
       "      <td>1.214053e+01</td>\n",
       "      <td>3.329729e+01</td>\n",
       "      <td>8.973470</td>\n",
       "      <td>1.404095e+02</td>\n",
       "    </tr>\n",
       "    <tr>\n",
       "      <th>min</th>\n",
       "      <td>1.000000e-02</td>\n",
       "      <td>1.000000e-02</td>\n",
       "      <td>1.000000e-02</td>\n",
       "      <td>1.000000e-02</td>\n",
       "      <td>0.000000e+00</td>\n",
       "      <td>1.000000e-02</td>\n",
       "      <td>0.000000e+00</td>\n",
       "      <td>1.000000e-02</td>\n",
       "      <td>1.000000e-02</td>\n",
       "      <td>0.000000e+00</td>\n",
       "      <td>0.000000e+00</td>\n",
       "      <td>0.000000</td>\n",
       "      <td>5.000000e+00</td>\n",
       "    </tr>\n",
       "    <tr>\n",
       "      <th>25%</th>\n",
       "      <td>2.816000e+01</td>\n",
       "      <td>6.400000e+01</td>\n",
       "      <td>3.050000e+00</td>\n",
       "      <td>1.310000e+01</td>\n",
       "      <td>1.135000e+01</td>\n",
       "      <td>1.123000e+01</td>\n",
       "      <td>4.100000e-01</td>\n",
       "      <td>4.250000e+00</td>\n",
       "      <td>1.102000e+01</td>\n",
       "      <td>8.000000e-02</td>\n",
       "      <td>3.400000e-01</td>\n",
       "      <td>0.000000</td>\n",
       "      <td>8.400000e+01</td>\n",
       "    </tr>\n",
       "    <tr>\n",
       "      <th>50%</th>\n",
       "      <td>5.259000e+01</td>\n",
       "      <td>1.162500e+02</td>\n",
       "      <td>7.150000e+00</td>\n",
       "      <td>2.479000e+01</td>\n",
       "      <td>2.286000e+01</td>\n",
       "      <td>2.235000e+01</td>\n",
       "      <td>8.000000e-01</td>\n",
       "      <td>8.250000e+00</td>\n",
       "      <td>2.475000e+01</td>\n",
       "      <td>9.600000e-01</td>\n",
       "      <td>3.400000e+00</td>\n",
       "      <td>0.200000</td>\n",
       "      <td>1.310000e+02</td>\n",
       "    </tr>\n",
       "    <tr>\n",
       "      <th>75%</th>\n",
       "      <td>9.774000e+01</td>\n",
       "      <td>2.040000e+02</td>\n",
       "      <td>1.858000e+01</td>\n",
       "      <td>4.548000e+01</td>\n",
       "      <td>4.570000e+01</td>\n",
       "      <td>3.778000e+01</td>\n",
       "      <td>1.380000e+00</td>\n",
       "      <td>1.453000e+01</td>\n",
       "      <td>4.953000e+01</td>\n",
       "      <td>3.230000e+00</td>\n",
       "      <td>1.510000e+01</td>\n",
       "      <td>1.830000</td>\n",
       "      <td>2.590000e+02</td>\n",
       "    </tr>\n",
       "    <tr>\n",
       "      <th>max</th>\n",
       "      <td>1.000000e+03</td>\n",
       "      <td>1.000000e+03</td>\n",
       "      <td>5.000000e+02</td>\n",
       "      <td>4.999900e+02</td>\n",
       "      <td>5.000000e+02</td>\n",
       "      <td>4.999700e+02</td>\n",
       "      <td>4.985700e+02</td>\n",
       "      <td>1.999600e+02</td>\n",
       "      <td>9.970000e+02</td>\n",
       "      <td>4.980700e+02</td>\n",
       "      <td>4.999900e+02</td>\n",
       "      <td>499.990000</td>\n",
       "      <td>3.133000e+03</td>\n",
       "    </tr>\n",
       "  </tbody>\n",
       "</table>\n",
       "</div>"
      ],
      "text/plain": [
       "              PM2.5          PM10            NO           NO2           NOx  \\\n",
       "count  1.941394e+06  1.469831e+06  2.035372e+06  2.060110e+06  2.098275e+06   \n",
       "mean   8.086481e+01  1.584839e+02  2.278825e+01  3.523689e+01  4.055115e+01   \n",
       "std    8.947618e+01  1.397883e+02  4.846146e+01  3.497508e+01  5.590894e+01   \n",
       "min    1.000000e-02  1.000000e-02  1.000000e-02  1.000000e-02  0.000000e+00   \n",
       "25%    2.816000e+01  6.400000e+01  3.050000e+00  1.310000e+01  1.135000e+01   \n",
       "50%    5.259000e+01  1.162500e+02  7.150000e+00  2.479000e+01  2.286000e+01   \n",
       "75%    9.774000e+01  2.040000e+02  1.858000e+01  4.548000e+01  4.570000e+01   \n",
       "max    1.000000e+03  1.000000e+03  5.000000e+02  4.999900e+02  5.000000e+02   \n",
       "\n",
       "                NH3            CO           SO2            O3       Benzene  \\\n",
       "count  1.352465e+06  2.089781e+06  1.846346e+06  1.863110e+06  1.727504e+06   \n",
       "mean   2.870856e+01  1.502366e+00  1.211602e+01  3.806408e+01  3.305493e+00   \n",
       "std    2.753244e+01  6.292445e+00  1.467385e+01  4.710653e+01  1.214053e+01   \n",
       "min    1.000000e-02  0.000000e+00  1.000000e-02  1.000000e-02  0.000000e+00   \n",
       "25%    1.123000e+01  4.100000e-01  4.250000e+00  1.102000e+01  8.000000e-02   \n",
       "50%    2.235000e+01  8.000000e-01  8.250000e+00  2.475000e+01  9.600000e-01   \n",
       "75%    3.778000e+01  1.380000e+00  1.453000e+01  4.953000e+01  3.230000e+00   \n",
       "max    4.999700e+02  4.985700e+02  1.999600e+02  9.970000e+02  4.980700e+02   \n",
       "\n",
       "            Toluene         Xylene           AQI  \n",
       "count  1.546717e+06  513979.000000  2.018893e+06  \n",
       "mean   1.490266e+01       2.448881  1.801730e+02  \n",
       "std    3.329729e+01       8.973470  1.404095e+02  \n",
       "min    0.000000e+00       0.000000  5.000000e+00  \n",
       "25%    3.400000e-01       0.000000  8.400000e+01  \n",
       "50%    3.400000e+00       0.200000  1.310000e+02  \n",
       "75%    1.510000e+01       1.830000  2.590000e+02  \n",
       "max    4.999900e+02     499.990000  3.133000e+03  "
      ]
     },
     "execution_count": 269,
     "metadata": {},
     "output_type": "execute_result"
    }
   ],
   "source": [
    "city_day_df.describe()"
   ]
  },
  {
   "cell_type": "code",
   "execution_count": 270,
   "metadata": {},
   "outputs": [
    {
     "name": "stdout",
     "output_type": "stream",
     "text": [
      "<class 'pandas.core.frame.DataFrame'>\n",
      "RangeIndex: 2589083 entries, 0 to 2589082\n",
      "Data columns (total 16 columns):\n",
      " #   Column      Dtype  \n",
      "---  ------      -----  \n",
      " 0   StationId   object \n",
      " 1   Datetime    object \n",
      " 2   PM2.5       float64\n",
      " 3   PM10        float64\n",
      " 4   NO          float64\n",
      " 5   NO2         float64\n",
      " 6   NOx         float64\n",
      " 7   NH3         float64\n",
      " 8   CO          float64\n",
      " 9   SO2         float64\n",
      " 10  O3          float64\n",
      " 11  Benzene     float64\n",
      " 12  Toluene     float64\n",
      " 13  Xylene      float64\n",
      " 14  AQI         float64\n",
      " 15  AQI_Bucket  object \n",
      "dtypes: float64(13), object(3)\n",
      "memory usage: 316.1+ MB\n"
     ]
    }
   ],
   "source": [
    "city_day_df.info()"
   ]
  },
  {
   "cell_type": "code",
   "execution_count": 271,
   "metadata": {},
   "outputs": [
    {
     "data": {
      "text/plain": [
       "StationId           0\n",
       "Datetime            0\n",
       "PM2.5          647689\n",
       "PM10          1119252\n",
       "NO             553711\n",
       "NO2            528973\n",
       "NOx            490808\n",
       "NH3           1236618\n",
       "CO             499302\n",
       "SO2            742737\n",
       "O3             725973\n",
       "Benzene        861579\n",
       "Toluene       1042366\n",
       "Xylene        2075104\n",
       "AQI            570190\n",
       "AQI_Bucket     570190\n",
       "dtype: int64"
      ]
     },
     "execution_count": 271,
     "metadata": {},
     "output_type": "execute_result"
    }
   ],
   "source": [
    "city_day_df.isna().sum()"
   ]
  },
  {
   "cell_type": "code",
   "execution_count": 272,
   "metadata": {},
   "outputs": [
    {
     "name": "stderr",
     "output_type": "stream",
     "text": [
      "C:\\Users\\MOHIT KUMAR DORA\\AppData\\Local\\Temp\\ipykernel_5972\\2582362189.py:4: FutureWarning: A value is trying to be set on a copy of a DataFrame or Series through chained assignment using an inplace method.\n",
      "The behavior will change in pandas 3.0. This inplace method will never work because the intermediate object on which we are setting values always behaves as a copy.\n",
      "\n",
      "For example, when doing 'df[col].method(value, inplace=True)', try using 'df.method({col: value}, inplace=True)' or df[col] = df[col].method(value) instead, to perform the operation inplace on the original object.\n",
      "\n",
      "\n",
      "  city_day_df[i].fillna(city_day_df[i].mean(),inplace=True)\n"
     ]
    },
    {
     "data": {
      "text/plain": [
       "Index(['PM2.5', 'PM10', 'NO', 'NO2', 'NOx', 'NH3', 'CO', 'SO2', 'O3',\n",
       "       'Benzene', 'Toluene', 'Xylene', 'AQI'],\n",
       "      dtype='object')"
      ]
     },
     "execution_count": 272,
     "metadata": {},
     "output_type": "execute_result"
    }
   ],
   "source": [
    "#fill numerical field\n",
    "float_col=city_day_df.select_dtypes(include=\"float64\").columns\n",
    "for i in float_col:\n",
    "    city_day_df[i].fillna(city_day_df[i].mean(),inplace=True)\n",
    "float_col"
   ]
  },
  {
   "cell_type": "code",
   "execution_count": 273,
   "metadata": {},
   "outputs": [],
   "source": [
    "city_day_df = remove_outliers_iqr(city_day_df, float_col)"
   ]
  },
  {
   "cell_type": "code",
   "execution_count": 274,
   "metadata": {},
   "outputs": [
    {
     "data": {
      "text/plain": [
       "(2589083, 16)"
      ]
     },
     "execution_count": 274,
     "metadata": {},
     "output_type": "execute_result"
    }
   ],
   "source": [
    "city_day_df.shape"
   ]
  },
  {
   "cell_type": "code",
   "execution_count": 275,
   "metadata": {},
   "outputs": [
    {
     "data": {
      "text/html": [
       "<div>\n",
       "<style scoped>\n",
       "    .dataframe tbody tr th:only-of-type {\n",
       "        vertical-align: middle;\n",
       "    }\n",
       "\n",
       "    .dataframe tbody tr th {\n",
       "        vertical-align: top;\n",
       "    }\n",
       "\n",
       "    .dataframe thead th {\n",
       "        text-align: right;\n",
       "    }\n",
       "</style>\n",
       "<table border=\"1\" class=\"dataframe\">\n",
       "  <thead>\n",
       "    <tr style=\"text-align: right;\">\n",
       "      <th></th>\n",
       "      <th>PM2.5</th>\n",
       "      <th>PM10</th>\n",
       "      <th>NO</th>\n",
       "      <th>NO2</th>\n",
       "      <th>NOx</th>\n",
       "      <th>NH3</th>\n",
       "      <th>CO</th>\n",
       "      <th>SO2</th>\n",
       "      <th>O3</th>\n",
       "      <th>Benzene</th>\n",
       "      <th>Toluene</th>\n",
       "      <th>Xylene</th>\n",
       "      <th>AQI</th>\n",
       "    </tr>\n",
       "  </thead>\n",
       "  <tbody>\n",
       "    <tr>\n",
       "      <th>count</th>\n",
       "      <td>2.589083e+06</td>\n",
       "      <td>2.589083e+06</td>\n",
       "      <td>2.589083e+06</td>\n",
       "      <td>2.589083e+06</td>\n",
       "      <td>2.589083e+06</td>\n",
       "      <td>2.589083e+06</td>\n",
       "      <td>2.589083e+06</td>\n",
       "      <td>2.589083e+06</td>\n",
       "      <td>2.589083e+06</td>\n",
       "      <td>2.589083e+06</td>\n",
       "      <td>2.589083e+06</td>\n",
       "      <td>2.589083e+06</td>\n",
       "      <td>2.589083e+06</td>\n",
       "    </tr>\n",
       "    <tr>\n",
       "      <th>mean</th>\n",
       "      <td>6.055410e+01</td>\n",
       "      <td>1.322261e+02</td>\n",
       "      <td>1.289328e+01</td>\n",
       "      <td>2.783899e+01</td>\n",
       "      <td>2.768351e+01</td>\n",
       "      <td>2.654203e+01</td>\n",
       "      <td>9.973532e-01</td>\n",
       "      <td>9.358643e+00</td>\n",
       "      <td>2.881932e+01</td>\n",
       "      <td>2.140448e+00</td>\n",
       "      <td>9.964908e+00</td>\n",
       "      <td>2.448881e+00</td>\n",
       "      <td>1.578965e+02</td>\n",
       "    </tr>\n",
       "    <tr>\n",
       "      <th>std</th>\n",
       "      <td>3.044746e+01</td>\n",
       "      <td>4.563771e+01</td>\n",
       "      <td>1.022894e+01</td>\n",
       "      <td>1.500406e+01</td>\n",
       "      <td>1.704689e+01</td>\n",
       "      <td>5.033708e+00</td>\n",
       "      <td>6.211958e-01</td>\n",
       "      <td>4.498125e+00</td>\n",
       "      <td>1.551815e+01</td>\n",
       "      <td>1.661928e+00</td>\n",
       "      <td>7.352767e+00</td>\n",
       "      <td>7.549518e-15</td>\n",
       "      <td>7.858440e+01</td>\n",
       "    </tr>\n",
       "    <tr>\n",
       "      <th>min</th>\n",
       "      <td>1.000000e-02</td>\n",
       "      <td>1.790000e+01</td>\n",
       "      <td>1.000000e-02</td>\n",
       "      <td>1.000000e-02</td>\n",
       "      <td>0.000000e+00</td>\n",
       "      <td>1.032000e+01</td>\n",
       "      <td>0.000000e+00</td>\n",
       "      <td>1.000000e-02</td>\n",
       "      <td>1.000000e-02</td>\n",
       "      <td>0.000000e+00</td>\n",
       "      <td>0.000000e+00</td>\n",
       "      <td>2.448881e+00</td>\n",
       "      <td>5.000000e+00</td>\n",
       "    </tr>\n",
       "    <tr>\n",
       "      <th>25%</th>\n",
       "      <td>3.550000e+01</td>\n",
       "      <td>1.080000e+02</td>\n",
       "      <td>3.890000e+00</td>\n",
       "      <td>1.568000e+01</td>\n",
       "      <td>1.383000e+01</td>\n",
       "      <td>2.654203e+01</td>\n",
       "      <td>5.000000e-01</td>\n",
       "      <td>5.750000e+00</td>\n",
       "      <td>1.573000e+01</td>\n",
       "      <td>3.800000e-01</td>\n",
       "      <td>2.000000e+00</td>\n",
       "      <td>2.448881e+00</td>\n",
       "      <td>9.800000e+01</td>\n",
       "    </tr>\n",
       "    <tr>\n",
       "      <th>50%</th>\n",
       "      <td>6.055410e+01</td>\n",
       "      <td>1.584839e+02</td>\n",
       "      <td>1.100000e+01</td>\n",
       "      <td>2.783899e+01</td>\n",
       "      <td>2.768351e+01</td>\n",
       "      <td>2.870856e+01</td>\n",
       "      <td>9.973532e-01</td>\n",
       "      <td>9.680000e+00</td>\n",
       "      <td>2.881932e+01</td>\n",
       "      <td>2.140448e+00</td>\n",
       "      <td>1.253000e+01</td>\n",
       "      <td>2.448881e+00</td>\n",
       "      <td>1.578965e+02</td>\n",
       "    </tr>\n",
       "    <tr>\n",
       "      <th>75%</th>\n",
       "      <td>8.086481e+01</td>\n",
       "      <td>1.584839e+02</td>\n",
       "      <td>2.278825e+01</td>\n",
       "      <td>3.523689e+01</td>\n",
       "      <td>4.055115e+01</td>\n",
       "      <td>2.870856e+01</td>\n",
       "      <td>1.502366e+00</td>\n",
       "      <td>1.211602e+01</td>\n",
       "      <td>3.806408e+01</td>\n",
       "      <td>3.305493e+00</td>\n",
       "      <td>1.490266e+01</td>\n",
       "      <td>2.448881e+00</td>\n",
       "      <td>1.801730e+02</td>\n",
       "    </tr>\n",
       "    <tr>\n",
       "      <th>max</th>\n",
       "      <td>1.489100e+02</td>\n",
       "      <td>2.428300e+02</td>\n",
       "      <td>5.113000e+01</td>\n",
       "      <td>7.198000e+01</td>\n",
       "      <td>8.063000e+01</td>\n",
       "      <td>3.974000e+01</td>\n",
       "      <td>3.000000e+00</td>\n",
       "      <td>2.166000e+01</td>\n",
       "      <td>7.156000e+01</td>\n",
       "      <td>7.690000e+00</td>\n",
       "      <td>3.425000e+01</td>\n",
       "      <td>2.448881e+00</td>\n",
       "      <td>3.650000e+02</td>\n",
       "    </tr>\n",
       "  </tbody>\n",
       "</table>\n",
       "</div>"
      ],
      "text/plain": [
       "              PM2.5          PM10            NO           NO2           NOx  \\\n",
       "count  2.589083e+06  2.589083e+06  2.589083e+06  2.589083e+06  2.589083e+06   \n",
       "mean   6.055410e+01  1.322261e+02  1.289328e+01  2.783899e+01  2.768351e+01   \n",
       "std    3.044746e+01  4.563771e+01  1.022894e+01  1.500406e+01  1.704689e+01   \n",
       "min    1.000000e-02  1.790000e+01  1.000000e-02  1.000000e-02  0.000000e+00   \n",
       "25%    3.550000e+01  1.080000e+02  3.890000e+00  1.568000e+01  1.383000e+01   \n",
       "50%    6.055410e+01  1.584839e+02  1.100000e+01  2.783899e+01  2.768351e+01   \n",
       "75%    8.086481e+01  1.584839e+02  2.278825e+01  3.523689e+01  4.055115e+01   \n",
       "max    1.489100e+02  2.428300e+02  5.113000e+01  7.198000e+01  8.063000e+01   \n",
       "\n",
       "                NH3            CO           SO2            O3       Benzene  \\\n",
       "count  2.589083e+06  2.589083e+06  2.589083e+06  2.589083e+06  2.589083e+06   \n",
       "mean   2.654203e+01  9.973532e-01  9.358643e+00  2.881932e+01  2.140448e+00   \n",
       "std    5.033708e+00  6.211958e-01  4.498125e+00  1.551815e+01  1.661928e+00   \n",
       "min    1.032000e+01  0.000000e+00  1.000000e-02  1.000000e-02  0.000000e+00   \n",
       "25%    2.654203e+01  5.000000e-01  5.750000e+00  1.573000e+01  3.800000e-01   \n",
       "50%    2.870856e+01  9.973532e-01  9.680000e+00  2.881932e+01  2.140448e+00   \n",
       "75%    2.870856e+01  1.502366e+00  1.211602e+01  3.806408e+01  3.305493e+00   \n",
       "max    3.974000e+01  3.000000e+00  2.166000e+01  7.156000e+01  7.690000e+00   \n",
       "\n",
       "            Toluene        Xylene           AQI  \n",
       "count  2.589083e+06  2.589083e+06  2.589083e+06  \n",
       "mean   9.964908e+00  2.448881e+00  1.578965e+02  \n",
       "std    7.352767e+00  7.549518e-15  7.858440e+01  \n",
       "min    0.000000e+00  2.448881e+00  5.000000e+00  \n",
       "25%    2.000000e+00  2.448881e+00  9.800000e+01  \n",
       "50%    1.253000e+01  2.448881e+00  1.578965e+02  \n",
       "75%    1.490266e+01  2.448881e+00  1.801730e+02  \n",
       "max    3.425000e+01  2.448881e+00  3.650000e+02  "
      ]
     },
     "execution_count": 275,
     "metadata": {},
     "output_type": "execute_result"
    }
   ],
   "source": [
    "city_day_df.describe()"
   ]
  },
  {
   "cell_type": "code",
   "execution_count": 276,
   "metadata": {},
   "outputs": [
    {
     "data": {
      "text/plain": [
       "<Axes: xlabel='AQI'>"
      ]
     },
     "execution_count": 276,
     "metadata": {},
     "output_type": "execute_result"
    },
    {
     "data": {
      "image/png": "[encoded data removed]",
      "text/plain": [
       "<Figure size 640x480 with 1 Axes>"
      ]
     },
     "metadata": {},
     "output_type": "display_data"
    }
   ],
   "source": [
    "sns.boxplot(x=city_day_df[\"AQI\"],data=city_day_df)"
   ]
  },
  {
   "cell_type": "code",
   "execution_count": 277,
   "metadata": {},
   "outputs": [
    {
     "data": {
      "text/plain": [
       "(2589083, 16)"
      ]
     },
     "execution_count": 277,
     "metadata": {},
     "output_type": "execute_result"
    }
   ],
   "source": [
    "city_day_df.shape"
   ]
  },
  {
   "cell_type": "code",
   "execution_count": 278,
   "metadata": {},
   "outputs": [
    {
     "data": {
      "text/plain": [
       "np.int64(480789)"
      ]
     },
     "execution_count": 278,
     "metadata": {},
     "output_type": "execute_result"
    }
   ],
   "source": [
    "(city_day_df[\"AQI\"]>200).sum()"
   ]
  },
  {
   "cell_type": "code",
   "execution_count": 279,
   "metadata": {},
   "outputs": [],
   "source": [
    "city_day_df.drop(columns=[\"AQI\",\"AQI_Bucket\",\"Benzene\",\"Toluene\",\"Xylene\"],inplace=True)"
   ]
  },
  {
   "cell_type": "code",
   "execution_count": 280,
   "metadata": {},
   "outputs": [],
   "source": [
    "def calculator(pm25,pm10,no2,so2,co,o3):\n",
    "    def calculate_sub_index(concentration, breakpoints):\n",
    "        for (C_low, C_high, I_low, I_high) in breakpoints:\n",
    "            if C_low <= concentration <= C_high:\n",
    "                return ((I_high - I_low) / (C_high - C_low)) * (concentration - C_low) + I_low\n",
    "        return 0\n",
    "\n",
    "    # Breakpoint tables\n",
    "    pm25_breakpoints = [(0, 12, 0, 50), (12.1, 35.4, 51, 100), (35.5, 55.4, 101, 150), (55.5, 150.4, 151, 200), (150.5, 250.4, 201, 300), (250.5, 500.4, 301, 500)]\n",
    "    pm10_breakpoints = [(0, 54, 0, 50), (55, 154, 51, 100), (155, 254, 101, 150), (255, 354, 151, 200), (355, 424, 201, 300), (425, 604, 301, 500)]\n",
    "    no2_breakpoints = [(0, 53, 0, 50), (54, 100, 51, 100), (101, 360, 101, 150), (361, 649, 151, 200), (650, 1249, 201, 300), (1250, 2049, 301, 500)]\n",
    "    so2_breakpoints = [(0, 35, 0, 50), (36, 75, 51, 100), (76, 185, 101, 150), (186, 304, 151, 200), (305, 604, 201, 300), (605, 1004, 301, 500)]\n",
    "    co_breakpoints = [(0, 4.4, 0, 50), (4.5, 9.4, 51, 100), (9.5, 12.4, 101, 150), (12.5, 15.4, 151, 200), (15.5, 30.4, 201, 300), (30.5, 50.4, 301, 500)]\n",
    "    o3_breakpoints = [(0, 54, 0, 50), (55, 70, 51, 100), (71, 85, 101, 150), (86, 105, 151, 200), (106, 200, 201, 300), (201, 400, 301, 500)]\n",
    "\n",
    "    # Calculate sub-indices\n",
    "    pm25_index = calculate_sub_index(pm25*10, pm25_breakpoints)\n",
    "    pm10_index = calculate_sub_index(pm10, pm10_breakpoints)\n",
    "    no2_index = calculate_sub_index(no2, no2_breakpoints)\n",
    "    so2_index = calculate_sub_index(so2, so2_breakpoints)\n",
    "    co_index = calculate_sub_index(co, co_breakpoints)\n",
    "    o3_index = calculate_sub_index(o3, o3_breakpoints)\n",
    "\n",
    "    # Overall AQI\n",
    "    aqi = max(pm25_index, pm10_index, no2_index, so2_index, co_index, o3_index)\n",
    "    # aqi=25\n",
    "\n",
    "    # Determine AQI category\n",
    "    def get_aqi_category(aqi):\n",
    "        if 0 <= aqi <= 50:\n",
    "            return 'Satisfactory'\n",
    "        elif 51 <= aqi <= 100:\n",
    "            return 'Good'\n",
    "        elif 101 <= aqi <= 150:\n",
    "            return 'Moderate'\n",
    "        elif 151 <= aqi <= 200:\n",
    "            return 'Poor'\n",
    "        elif 201 <= aqi <= 300:\n",
    "            return 'Very Poor'\n",
    "        elif 301 <= aqi <= 500:\n",
    "            return 'Severe'\n",
    "        else:\n",
    "            return 'Out of Range'\n",
    "\n",
    "    aqi_category = get_aqi_category(int(aqi))\n",
    "\n",
    "    return aqi,aqi_category\n"
   ]
  },
  {
   "cell_type": "code",
   "execution_count": 281,
   "metadata": {},
   "outputs": [],
   "source": [
    "\n",
    "city_day_df[['AQI', 'AQI_Category']]=city_day_df.apply(lambda x:pd.Series(calculator(x[\"PM2.5\"],x[\"PM10\"],x[\"NO2\"],x[\"SO2\"],x[\"CO\"],x[\"O3\"])),axis=1)\n"
   ]
  },
  {
   "cell_type": "code",
   "execution_count": 282,
   "metadata": {},
   "outputs": [],
   "source": [
    "city_day_df = remove_outliers_iqr(city_day_df, [\"AQI\"])"
   ]
  },
  {
   "cell_type": "code",
   "execution_count": 283,
   "metadata": {},
   "outputs": [
    {
     "data": {
      "text/plain": [
       "np.int64(505666)"
      ]
     },
     "execution_count": 283,
     "metadata": {},
     "output_type": "execute_result"
    }
   ],
   "source": [
    "(city_day_df[\"AQI\"]>250).sum()"
   ]
  },
  {
   "cell_type": "code",
   "execution_count": 284,
   "metadata": {},
   "outputs": [],
   "source": [
    "city_day_df=city_day_df.reset_index(drop=True)"
   ]
  },
  {
   "cell_type": "code",
   "execution_count": 285,
   "metadata": {},
   "outputs": [
    {
     "data": {
      "text/plain": [
       "(2589083, 13)"
      ]
     },
     "execution_count": 285,
     "metadata": {},
     "output_type": "execute_result"
    }
   ],
   "source": [
    "city_day_df.shape"
   ]
  },
  {
   "cell_type": "code",
   "execution_count": 286,
   "metadata": {},
   "outputs": [
    {
     "data": {
      "text/html": [
       "<div>\n",
       "<style scoped>\n",
       "    .dataframe tbody tr th:only-of-type {\n",
       "        vertical-align: middle;\n",
       "    }\n",
       "\n",
       "    .dataframe tbody tr th {\n",
       "        vertical-align: top;\n",
       "    }\n",
       "\n",
       "    .dataframe thead th {\n",
       "        text-align: right;\n",
       "    }\n",
       "</style>\n",
       "<table border=\"1\" class=\"dataframe\">\n",
       "  <thead>\n",
       "    <tr style=\"text-align: right;\">\n",
       "      <th></th>\n",
       "      <th>PM2.5</th>\n",
       "      <th>PM10</th>\n",
       "      <th>NO</th>\n",
       "      <th>NO2</th>\n",
       "      <th>NOx</th>\n",
       "      <th>NH3</th>\n",
       "      <th>CO</th>\n",
       "      <th>SO2</th>\n",
       "      <th>O3</th>\n",
       "      <th>AQI</th>\n",
       "    </tr>\n",
       "  </thead>\n",
       "  <tbody>\n",
       "    <tr>\n",
       "      <th>count</th>\n",
       "      <td>2.589083e+06</td>\n",
       "      <td>2.589083e+06</td>\n",
       "      <td>2.589083e+06</td>\n",
       "      <td>2.589083e+06</td>\n",
       "      <td>2.589083e+06</td>\n",
       "      <td>2.589083e+06</td>\n",
       "      <td>2.589083e+06</td>\n",
       "      <td>2.589083e+06</td>\n",
       "      <td>2.589083e+06</td>\n",
       "      <td>2.589083e+06</td>\n",
       "    </tr>\n",
       "    <tr>\n",
       "      <th>mean</th>\n",
       "      <td>6.055410e+01</td>\n",
       "      <td>1.322261e+02</td>\n",
       "      <td>1.289328e+01</td>\n",
       "      <td>2.783899e+01</td>\n",
       "      <td>2.768351e+01</td>\n",
       "      <td>2.654203e+01</td>\n",
       "      <td>9.973532e-01</td>\n",
       "      <td>9.358643e+00</td>\n",
       "      <td>2.881932e+01</td>\n",
       "      <td>1.604358e+02</td>\n",
       "    </tr>\n",
       "    <tr>\n",
       "      <th>std</th>\n",
       "      <td>3.044746e+01</td>\n",
       "      <td>4.563771e+01</td>\n",
       "      <td>1.022894e+01</td>\n",
       "      <td>1.500406e+01</td>\n",
       "      <td>1.704689e+01</td>\n",
       "      <td>5.033708e+00</td>\n",
       "      <td>6.211958e-01</td>\n",
       "      <td>4.498125e+00</td>\n",
       "      <td>1.551815e+01</td>\n",
       "      <td>1.025115e+02</td>\n",
       "    </tr>\n",
       "    <tr>\n",
       "      <th>min</th>\n",
       "      <td>1.000000e-02</td>\n",
       "      <td>1.790000e+01</td>\n",
       "      <td>1.000000e-02</td>\n",
       "      <td>1.000000e-02</td>\n",
       "      <td>0.000000e+00</td>\n",
       "      <td>1.032000e+01</td>\n",
       "      <td>0.000000e+00</td>\n",
       "      <td>1.000000e-02</td>\n",
       "      <td>1.000000e-02</td>\n",
       "      <td>5.795455e+00</td>\n",
       "    </tr>\n",
       "    <tr>\n",
       "      <th>25%</th>\n",
       "      <td>3.550000e+01</td>\n",
       "      <td>1.080000e+02</td>\n",
       "      <td>3.890000e+00</td>\n",
       "      <td>1.568000e+01</td>\n",
       "      <td>1.383000e+01</td>\n",
       "      <td>2.654203e+01</td>\n",
       "      <td>5.000000e-01</td>\n",
       "      <td>5.750000e+00</td>\n",
       "      <td>1.573000e+01</td>\n",
       "      <td>1.027244e+02</td>\n",
       "    </tr>\n",
       "    <tr>\n",
       "      <th>50%</th>\n",
       "      <td>6.055410e+01</td>\n",
       "      <td>1.584839e+02</td>\n",
       "      <td>1.100000e+01</td>\n",
       "      <td>2.783899e+01</td>\n",
       "      <td>2.768351e+01</td>\n",
       "      <td>2.870856e+01</td>\n",
       "      <td>9.973532e-01</td>\n",
       "      <td>9.680000e+00</td>\n",
       "      <td>2.881932e+01</td>\n",
       "      <td>1.027244e+02</td>\n",
       "    </tr>\n",
       "    <tr>\n",
       "      <th>75%</th>\n",
       "      <td>8.086481e+01</td>\n",
       "      <td>1.584839e+02</td>\n",
       "      <td>2.278825e+01</td>\n",
       "      <td>3.523689e+01</td>\n",
       "      <td>4.055115e+01</td>\n",
       "      <td>2.870856e+01</td>\n",
       "      <td>1.502366e+00</td>\n",
       "      <td>1.211602e+01</td>\n",
       "      <td>3.806408e+01</td>\n",
       "      <td>1.906027e+02</td>\n",
       "    </tr>\n",
       "    <tr>\n",
       "      <th>max</th>\n",
       "      <td>1.489100e+02</td>\n",
       "      <td>2.428300e+02</td>\n",
       "      <td>5.113000e+01</td>\n",
       "      <td>7.198000e+01</td>\n",
       "      <td>8.063000e+01</td>\n",
       "      <td>3.974000e+01</td>\n",
       "      <td>3.000000e+00</td>\n",
       "      <td>2.166000e+01</td>\n",
       "      <td>7.156000e+01</td>\n",
       "      <td>4.464874e+02</td>\n",
       "    </tr>\n",
       "  </tbody>\n",
       "</table>\n",
       "</div>"
      ],
      "text/plain": [
       "              PM2.5          PM10            NO           NO2           NOx  \\\n",
       "count  2.589083e+06  2.589083e+06  2.589083e+06  2.589083e+06  2.589083e+06   \n",
       "mean   6.055410e+01  1.322261e+02  1.289328e+01  2.783899e+01  2.768351e+01   \n",
       "std    3.044746e+01  4.563771e+01  1.022894e+01  1.500406e+01  1.704689e+01   \n",
       "min    1.000000e-02  1.790000e+01  1.000000e-02  1.000000e-02  0.000000e+00   \n",
       "25%    3.550000e+01  1.080000e+02  3.890000e+00  1.568000e+01  1.383000e+01   \n",
       "50%    6.055410e+01  1.584839e+02  1.100000e+01  2.783899e+01  2.768351e+01   \n",
       "75%    8.086481e+01  1.584839e+02  2.278825e+01  3.523689e+01  4.055115e+01   \n",
       "max    1.489100e+02  2.428300e+02  5.113000e+01  7.198000e+01  8.063000e+01   \n",
       "\n",
       "                NH3            CO           SO2            O3           AQI  \n",
       "count  2.589083e+06  2.589083e+06  2.589083e+06  2.589083e+06  2.589083e+06  \n",
       "mean   2.654203e+01  9.973532e-01  9.358643e+00  2.881932e+01  1.604358e+02  \n",
       "std    5.033708e+00  6.211958e-01  4.498125e+00  1.551815e+01  1.025115e+02  \n",
       "min    1.032000e+01  0.000000e+00  1.000000e-02  1.000000e-02  5.795455e+00  \n",
       "25%    2.654203e+01  5.000000e-01  5.750000e+00  1.573000e+01  1.027244e+02  \n",
       "50%    2.870856e+01  9.973532e-01  9.680000e+00  2.881932e+01  1.027244e+02  \n",
       "75%    2.870856e+01  1.502366e+00  1.211602e+01  3.806408e+01  1.906027e+02  \n",
       "max    3.974000e+01  3.000000e+00  2.166000e+01  7.156000e+01  4.464874e+02  "
      ]
     },
     "execution_count": 286,
     "metadata": {},
     "output_type": "execute_result"
    }
   ],
   "source": [
    "city_day_df.describe()"
   ]
  },
  {
   "cell_type": "code",
   "execution_count": 287,
   "metadata": {},
   "outputs": [],
   "source": [
    "city_day_df['Datetime'] = pd.to_datetime(city_day_df['Datetime']).dt.date"
   ]
  },
  {
   "cell_type": "code",
   "execution_count": 288,
   "metadata": {},
   "outputs": [
    {
     "name": "stdout",
     "output_type": "stream",
     "text": [
      "<class 'pandas.core.frame.DataFrame'>\n",
      "RangeIndex: 2589083 entries, 0 to 2589082\n",
      "Data columns (total 13 columns):\n",
      " #   Column        Dtype  \n",
      "---  ------        -----  \n",
      " 0   StationId     object \n",
      " 1   Datetime      object \n",
      " 2   PM2.5         float64\n",
      " 3   PM10          float64\n",
      " 4   NO            float64\n",
      " 5   NO2           float64\n",
      " 6   NOx           float64\n",
      " 7   NH3           float64\n",
      " 8   CO            float64\n",
      " 9   SO2           float64\n",
      " 10  O3            float64\n",
      " 11  AQI           float64\n",
      " 12  AQI_Category  object \n",
      "dtypes: float64(10), object(3)\n",
      "memory usage: 256.8+ MB\n"
     ]
    }
   ],
   "source": [
    "city_day_df.info()"
   ]
  },
  {
   "cell_type": "code",
   "execution_count": 289,
   "metadata": {},
   "outputs": [
    {
     "data": {
      "text/plain": [
       "AQI_Category\n",
       "Moderate        1108489\n",
       "Good             556488\n",
       "Severe           513810\n",
       "Very Poor        219029\n",
       "Poor             161325\n",
       "Satisfactory      29942\n",
       "Name: count, dtype: int64"
      ]
     },
     "execution_count": 289,
     "metadata": {},
     "output_type": "execute_result"
    }
   ],
   "source": [
    "city_day_df[\"AQI_Category\"].value_counts()"
   ]
  },
  {
   "cell_type": "code",
   "execution_count": 290,
   "metadata": {},
   "outputs": [],
   "source": [
    "city_day_df.to_csv('cleaned_station_hour_.csv', index=False)"
   ]
  },
  {
   "cell_type": "code",
   "execution_count": 291,
   "metadata": {},
   "outputs": [
    {
     "data": {
      "text/html": [
       "<div>\n",
       "<style scoped>\n",
       "    .dataframe tbody tr th:only-of-type {\n",
       "        vertical-align: middle;\n",
       "    }\n",
       "\n",
       "    .dataframe tbody tr th {\n",
       "        vertical-align: top;\n",
       "    }\n",
       "\n",
       "    .dataframe thead th {\n",
       "        text-align: right;\n",
       "    }\n",
       "</style>\n",
       "<table border=\"1\" class=\"dataframe\">\n",
       "  <thead>\n",
       "    <tr style=\"text-align: right;\">\n",
       "      <th></th>\n",
       "      <th>PM2.5</th>\n",
       "      <th>PM10</th>\n",
       "      <th>NO</th>\n",
       "      <th>NO2</th>\n",
       "      <th>NOx</th>\n",
       "      <th>NH3</th>\n",
       "      <th>CO</th>\n",
       "      <th>SO2</th>\n",
       "      <th>O3</th>\n",
       "      <th>AQI</th>\n",
       "    </tr>\n",
       "  </thead>\n",
       "  <tbody>\n",
       "    <tr>\n",
       "      <th>count</th>\n",
       "      <td>2.589083e+06</td>\n",
       "      <td>2.589083e+06</td>\n",
       "      <td>2.589083e+06</td>\n",
       "      <td>2.589083e+06</td>\n",
       "      <td>2.589083e+06</td>\n",
       "      <td>2.589083e+06</td>\n",
       "      <td>2.589083e+06</td>\n",
       "      <td>2.589083e+06</td>\n",
       "      <td>2.589083e+06</td>\n",
       "      <td>2.589083e+06</td>\n",
       "    </tr>\n",
       "    <tr>\n",
       "      <th>mean</th>\n",
       "      <td>6.055410e+01</td>\n",
       "      <td>1.322261e+02</td>\n",
       "      <td>1.289328e+01</td>\n",
       "      <td>2.783899e+01</td>\n",
       "      <td>2.768351e+01</td>\n",
       "      <td>2.654203e+01</td>\n",
       "      <td>9.973532e-01</td>\n",
       "      <td>9.358643e+00</td>\n",
       "      <td>2.881932e+01</td>\n",
       "      <td>1.604358e+02</td>\n",
       "    </tr>\n",
       "    <tr>\n",
       "      <th>std</th>\n",
       "      <td>3.044746e+01</td>\n",
       "      <td>4.563771e+01</td>\n",
       "      <td>1.022894e+01</td>\n",
       "      <td>1.500406e+01</td>\n",
       "      <td>1.704689e+01</td>\n",
       "      <td>5.033708e+00</td>\n",
       "      <td>6.211958e-01</td>\n",
       "      <td>4.498125e+00</td>\n",
       "      <td>1.551815e+01</td>\n",
       "      <td>1.025115e+02</td>\n",
       "    </tr>\n",
       "    <tr>\n",
       "      <th>min</th>\n",
       "      <td>1.000000e-02</td>\n",
       "      <td>1.790000e+01</td>\n",
       "      <td>1.000000e-02</td>\n",
       "      <td>1.000000e-02</td>\n",
       "      <td>0.000000e+00</td>\n",
       "      <td>1.032000e+01</td>\n",
       "      <td>0.000000e+00</td>\n",
       "      <td>1.000000e-02</td>\n",
       "      <td>1.000000e-02</td>\n",
       "      <td>5.795455e+00</td>\n",
       "    </tr>\n",
       "    <tr>\n",
       "      <th>25%</th>\n",
       "      <td>3.550000e+01</td>\n",
       "      <td>1.080000e+02</td>\n",
       "      <td>3.890000e+00</td>\n",
       "      <td>1.568000e+01</td>\n",
       "      <td>1.383000e+01</td>\n",
       "      <td>2.654203e+01</td>\n",
       "      <td>5.000000e-01</td>\n",
       "      <td>5.750000e+00</td>\n",
       "      <td>1.573000e+01</td>\n",
       "      <td>1.027244e+02</td>\n",
       "    </tr>\n",
       "    <tr>\n",
       "      <th>50%</th>\n",
       "      <td>6.055410e+01</td>\n",
       "      <td>1.584839e+02</td>\n",
       "      <td>1.100000e+01</td>\n",
       "      <td>2.783899e+01</td>\n",
       "      <td>2.768351e+01</td>\n",
       "      <td>2.870856e+01</td>\n",
       "      <td>9.973532e-01</td>\n",
       "      <td>9.680000e+00</td>\n",
       "      <td>2.881932e+01</td>\n",
       "      <td>1.027244e+02</td>\n",
       "    </tr>\n",
       "    <tr>\n",
       "      <th>75%</th>\n",
       "      <td>8.086481e+01</td>\n",
       "      <td>1.584839e+02</td>\n",
       "      <td>2.278825e+01</td>\n",
       "      <td>3.523689e+01</td>\n",
       "      <td>4.055115e+01</td>\n",
       "      <td>2.870856e+01</td>\n",
       "      <td>1.502366e+00</td>\n",
       "      <td>1.211602e+01</td>\n",
       "      <td>3.806408e+01</td>\n",
       "      <td>1.906027e+02</td>\n",
       "    </tr>\n",
       "    <tr>\n",
       "      <th>max</th>\n",
       "      <td>1.489100e+02</td>\n",
       "      <td>2.428300e+02</td>\n",
       "      <td>5.113000e+01</td>\n",
       "      <td>7.198000e+01</td>\n",
       "      <td>8.063000e+01</td>\n",
       "      <td>3.974000e+01</td>\n",
       "      <td>3.000000e+00</td>\n",
       "      <td>2.166000e+01</td>\n",
       "      <td>7.156000e+01</td>\n",
       "      <td>4.464874e+02</td>\n",
       "    </tr>\n",
       "  </tbody>\n",
       "</table>\n",
       "</div>"
      ],
      "text/plain": [
       "              PM2.5          PM10            NO           NO2           NOx  \\\n",
       "count  2.589083e+06  2.589083e+06  2.589083e+06  2.589083e+06  2.589083e+06   \n",
       "mean   6.055410e+01  1.322261e+02  1.289328e+01  2.783899e+01  2.768351e+01   \n",
       "std    3.044746e+01  4.563771e+01  1.022894e+01  1.500406e+01  1.704689e+01   \n",
       "min    1.000000e-02  1.790000e+01  1.000000e-02  1.000000e-02  0.000000e+00   \n",
       "25%    3.550000e+01  1.080000e+02  3.890000e+00  1.568000e+01  1.383000e+01   \n",
       "50%    6.055410e+01  1.584839e+02  1.100000e+01  2.783899e+01  2.768351e+01   \n",
       "75%    8.086481e+01  1.584839e+02  2.278825e+01  3.523689e+01  4.055115e+01   \n",
       "max    1.489100e+02  2.428300e+02  5.113000e+01  7.198000e+01  8.063000e+01   \n",
       "\n",
       "                NH3            CO           SO2            O3           AQI  \n",
       "count  2.589083e+06  2.589083e+06  2.589083e+06  2.589083e+06  2.589083e+06  \n",
       "mean   2.654203e+01  9.973532e-01  9.358643e+00  2.881932e+01  1.604358e+02  \n",
       "std    5.033708e+00  6.211958e-01  4.498125e+00  1.551815e+01  1.025115e+02  \n",
       "min    1.032000e+01  0.000000e+00  1.000000e-02  1.000000e-02  5.795455e+00  \n",
       "25%    2.654203e+01  5.000000e-01  5.750000e+00  1.573000e+01  1.027244e+02  \n",
       "50%    2.870856e+01  9.973532e-01  9.680000e+00  2.881932e+01  1.027244e+02  \n",
       "75%    2.870856e+01  1.502366e+00  1.211602e+01  3.806408e+01  1.906027e+02  \n",
       "max    3.974000e+01  3.000000e+00  2.166000e+01  7.156000e+01  4.464874e+02  "
      ]
     },
     "execution_count": 291,
     "metadata": {},
     "output_type": "execute_result"
    }
   ],
   "source": [
    "city_day_df.describe()"
   ]
  },
  {
   "cell_type": "code",
   "execution_count": 292,
   "metadata": {},
   "outputs": [
    {
     "data": {
      "text/plain": [
       "StationId       0\n",
       "Datetime        0\n",
       "PM2.5           0\n",
       "PM10            0\n",
       "NO              0\n",
       "NO2             0\n",
       "NOx             0\n",
       "NH3             0\n",
       "CO              0\n",
       "SO2             0\n",
       "O3              0\n",
       "AQI             0\n",
       "AQI_Category    0\n",
       "dtype: int64"
      ]
     },
     "execution_count": 292,
     "metadata": {},
     "output_type": "execute_result"
    }
   ],
   "source": [
    "city_day_df.isna().sum()"
   ]
  },
  {
   "cell_type": "code",
   "execution_count": 293,
   "metadata": {},
   "outputs": [
    {
     "data": {
      "text/html": [
       "<div>\n",
       "<style scoped>\n",
       "    .dataframe tbody tr th:only-of-type {\n",
       "        vertical-align: middle;\n",
       "    }\n",
       "\n",
       "    .dataframe tbody tr th {\n",
       "        vertical-align: top;\n",
       "    }\n",
       "\n",
       "    .dataframe thead th {\n",
       "        text-align: right;\n",
       "    }\n",
       "</style>\n",
       "<table border=\"1\" class=\"dataframe\">\n",
       "  <thead>\n",
       "    <tr style=\"text-align: right;\">\n",
       "      <th></th>\n",
       "      <th>PM2.5</th>\n",
       "      <th>PM10</th>\n",
       "      <th>NO</th>\n",
       "      <th>NO2</th>\n",
       "      <th>NOx</th>\n",
       "      <th>NH3</th>\n",
       "      <th>CO</th>\n",
       "      <th>SO2</th>\n",
       "      <th>O3</th>\n",
       "      <th>AQI</th>\n",
       "    </tr>\n",
       "  </thead>\n",
       "  <tbody>\n",
       "    <tr>\n",
       "      <th>count</th>\n",
       "      <td>2.589083e+06</td>\n",
       "      <td>2.589083e+06</td>\n",
       "      <td>2.589083e+06</td>\n",
       "      <td>2.589083e+06</td>\n",
       "      <td>2.589083e+06</td>\n",
       "      <td>2.589083e+06</td>\n",
       "      <td>2.589083e+06</td>\n",
       "      <td>2.589083e+06</td>\n",
       "      <td>2.589083e+06</td>\n",
       "      <td>2.589083e+06</td>\n",
       "    </tr>\n",
       "    <tr>\n",
       "      <th>mean</th>\n",
       "      <td>6.055410e+01</td>\n",
       "      <td>1.322261e+02</td>\n",
       "      <td>1.289328e+01</td>\n",
       "      <td>2.783899e+01</td>\n",
       "      <td>2.768351e+01</td>\n",
       "      <td>2.654203e+01</td>\n",
       "      <td>9.973532e-01</td>\n",
       "      <td>9.358643e+00</td>\n",
       "      <td>2.881932e+01</td>\n",
       "      <td>1.604358e+02</td>\n",
       "    </tr>\n",
       "    <tr>\n",
       "      <th>std</th>\n",
       "      <td>3.044746e+01</td>\n",
       "      <td>4.563771e+01</td>\n",
       "      <td>1.022894e+01</td>\n",
       "      <td>1.500406e+01</td>\n",
       "      <td>1.704689e+01</td>\n",
       "      <td>5.033708e+00</td>\n",
       "      <td>6.211958e-01</td>\n",
       "      <td>4.498125e+00</td>\n",
       "      <td>1.551815e+01</td>\n",
       "      <td>1.025115e+02</td>\n",
       "    </tr>\n",
       "    <tr>\n",
       "      <th>min</th>\n",
       "      <td>1.000000e-02</td>\n",
       "      <td>1.790000e+01</td>\n",
       "      <td>1.000000e-02</td>\n",
       "      <td>1.000000e-02</td>\n",
       "      <td>0.000000e+00</td>\n",
       "      <td>1.032000e+01</td>\n",
       "      <td>0.000000e+00</td>\n",
       "      <td>1.000000e-02</td>\n",
       "      <td>1.000000e-02</td>\n",
       "      <td>5.795455e+00</td>\n",
       "    </tr>\n",
       "    <tr>\n",
       "      <th>25%</th>\n",
       "      <td>3.550000e+01</td>\n",
       "      <td>1.080000e+02</td>\n",
       "      <td>3.890000e+00</td>\n",
       "      <td>1.568000e+01</td>\n",
       "      <td>1.383000e+01</td>\n",
       "      <td>2.654203e+01</td>\n",
       "      <td>5.000000e-01</td>\n",
       "      <td>5.750000e+00</td>\n",
       "      <td>1.573000e+01</td>\n",
       "      <td>1.027244e+02</td>\n",
       "    </tr>\n",
       "    <tr>\n",
       "      <th>50%</th>\n",
       "      <td>6.055410e+01</td>\n",
       "      <td>1.584839e+02</td>\n",
       "      <td>1.100000e+01</td>\n",
       "      <td>2.783899e+01</td>\n",
       "      <td>2.768351e+01</td>\n",
       "      <td>2.870856e+01</td>\n",
       "      <td>9.973532e-01</td>\n",
       "      <td>9.680000e+00</td>\n",
       "      <td>2.881932e+01</td>\n",
       "      <td>1.027244e+02</td>\n",
       "    </tr>\n",
       "    <tr>\n",
       "      <th>75%</th>\n",
       "      <td>8.086481e+01</td>\n",
       "      <td>1.584839e+02</td>\n",
       "      <td>2.278825e+01</td>\n",
       "      <td>3.523689e+01</td>\n",
       "      <td>4.055115e+01</td>\n",
       "      <td>2.870856e+01</td>\n",
       "      <td>1.502366e+00</td>\n",
       "      <td>1.211602e+01</td>\n",
       "      <td>3.806408e+01</td>\n",
       "      <td>1.906027e+02</td>\n",
       "    </tr>\n",
       "    <tr>\n",
       "      <th>max</th>\n",
       "      <td>1.489100e+02</td>\n",
       "      <td>2.428300e+02</td>\n",
       "      <td>5.113000e+01</td>\n",
       "      <td>7.198000e+01</td>\n",
       "      <td>8.063000e+01</td>\n",
       "      <td>3.974000e+01</td>\n",
       "      <td>3.000000e+00</td>\n",
       "      <td>2.166000e+01</td>\n",
       "      <td>7.156000e+01</td>\n",
       "      <td>4.464874e+02</td>\n",
       "    </tr>\n",
       "  </tbody>\n",
       "</table>\n",
       "</div>"
      ],
      "text/plain": [
       "              PM2.5          PM10            NO           NO2           NOx  \\\n",
       "count  2.589083e+06  2.589083e+06  2.589083e+06  2.589083e+06  2.589083e+06   \n",
       "mean   6.055410e+01  1.322261e+02  1.289328e+01  2.783899e+01  2.768351e+01   \n",
       "std    3.044746e+01  4.563771e+01  1.022894e+01  1.500406e+01  1.704689e+01   \n",
       "min    1.000000e-02  1.790000e+01  1.000000e-02  1.000000e-02  0.000000e+00   \n",
       "25%    3.550000e+01  1.080000e+02  3.890000e+00  1.568000e+01  1.383000e+01   \n",
       "50%    6.055410e+01  1.584839e+02  1.100000e+01  2.783899e+01  2.768351e+01   \n",
       "75%    8.086481e+01  1.584839e+02  2.278825e+01  3.523689e+01  4.055115e+01   \n",
       "max    1.489100e+02  2.428300e+02  5.113000e+01  7.198000e+01  8.063000e+01   \n",
       "\n",
       "                NH3            CO           SO2            O3           AQI  \n",
       "count  2.589083e+06  2.589083e+06  2.589083e+06  2.589083e+06  2.589083e+06  \n",
       "mean   2.654203e+01  9.973532e-01  9.358643e+00  2.881932e+01  1.604358e+02  \n",
       "std    5.033708e+00  6.211958e-01  4.498125e+00  1.551815e+01  1.025115e+02  \n",
       "min    1.032000e+01  0.000000e+00  1.000000e-02  1.000000e-02  5.795455e+00  \n",
       "25%    2.654203e+01  5.000000e-01  5.750000e+00  1.573000e+01  1.027244e+02  \n",
       "50%    2.870856e+01  9.973532e-01  9.680000e+00  2.881932e+01  1.027244e+02  \n",
       "75%    2.870856e+01  1.502366e+00  1.211602e+01  3.806408e+01  1.906027e+02  \n",
       "max    3.974000e+01  3.000000e+00  2.166000e+01  7.156000e+01  4.464874e+02  "
      ]
     },
     "execution_count": 293,
     "metadata": {},
     "output_type": "execute_result"
    }
   ],
   "source": [
    "city_day_df.describe()"
   ]
  },
  {
   "cell_type": "code",
   "execution_count": 294,
   "metadata": {},
   "outputs": [
    {
     "data": {
      "text/plain": [
       "StationId       0\n",
       "Datetime        0\n",
       "PM2.5           0\n",
       "PM10            0\n",
       "NO              0\n",
       "NO2             0\n",
       "NOx             0\n",
       "NH3             0\n",
       "CO              0\n",
       "SO2             0\n",
       "O3              0\n",
       "AQI             0\n",
       "AQI_Category    0\n",
       "dtype: int64"
      ]
     },
     "execution_count": 294,
     "metadata": {},
     "output_type": "execute_result"
    }
   ],
   "source": [
    "city_day_df.isna().sum()"
   ]
  },
  {
   "cell_type": "code",
   "execution_count": 295,
   "metadata": {},
   "outputs": [],
   "source": [
    "# sns.violinplot(data=city_day_df)"
   ]
  },
  {
   "cell_type": "code",
   "execution_count": 296,
   "metadata": {},
   "outputs": [
    {
     "data": {
      "text/plain": [
       "array([[<Axes: title={'center': 'PM2.5'}>,\n",
       "        <Axes: title={'center': 'PM10'}>, <Axes: title={'center': 'NO'}>],\n",
       "       [<Axes: title={'center': 'NO2'}>, <Axes: title={'center': 'NOx'}>,\n",
       "        <Axes: title={'center': 'NH3'}>],\n",
       "       [<Axes: title={'center': 'CO'}>, <Axes: title={'center': 'SO2'}>,\n",
       "        <Axes: title={'center': 'O3'}>],\n",
       "       [<Axes: title={'center': 'AQI'}>, <Axes: >, <Axes: >]],\n",
       "      dtype=object)"
      ]
     },
     "execution_count": 296,
     "metadata": {},
     "output_type": "execute_result"
    },
    {
     "data": {
      "image/png": "[encoded data removed]",
      "text/plain": [
       "<Figure size 640x480 with 12 Axes>"
      ]
     },
     "metadata": {},
     "output_type": "display_data"
    }
   ],
   "source": [
    "city_day_df.hist(bins=10, edgecolor='black', grid=False)"
   ]
  },
  {
   "cell_type": "code",
   "execution_count": 297,
   "metadata": {},
   "outputs": [
    {
     "data": {
      "text/plain": [
       "<Axes: xlabel='AQI'>"
      ]
     },
     "execution_count": 297,
     "metadata": {},
     "output_type": "execute_result"
    },
    {
     "data": {
      "image/png": "[encoded data removed]",
      "text/plain": [
       "<Figure size 640x480 with 1 Axes>"
      ]
     },
     "metadata": {},
     "output_type": "display_data"
    }
   ],
   "source": [
    "sns.boxplot(x=city_day_df[\"AQI\"],data=city_day_df)"
   ]
  }
 ],
 "metadata": {
  "kernelspec": {
   "display_name": "Python 3",
   "language": "python",
   "name": "python3"
  },
  "language_info": {
   "codemirror_mode": {
    "name": "ipython",
    "version": 3
   },
   "file_extension": ".py",
   "mimetype": "text/x-python",
   "name": "python",
   "nbconvert_exporter": "python",
   "pygments_lexer": "ipython3",
   "version": "3.12.4"
  }
 },
 "nbformat": 4,
 "nbformat_minor": 2
}
